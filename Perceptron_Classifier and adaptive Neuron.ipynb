{
  "nbformat": 4,
  "nbformat_minor": 0,
  "metadata": {
    "colab": {
      "name": "Perceptron Classifier.ipynb",
      "version": "0.3.2",
      "provenance": [],
      "collapsed_sections": [],
      "include_colab_link": true
    },
    "kernelspec": {
      "name": "python3",
      "display_name": "Python 3"
    }
  },
  "cells": [
    {
      "cell_type": "markdown",
      "metadata": {
        "id": "view-in-github",
        "colab_type": "text"
      },
      "source": [
        "<a href=\"https://colab.research.google.com/github/upavanu/Datasets-for-Recommneder-Systems/blob/master/Perceptron_Classifier%20and%20adaptive%20Neuron.ipynb\" target=\"_parent\"><img src=\"https://colab.research.google.com/assets/colab-badge.svg\" alt=\"Open In Colab\"/></a>"
      ]
    },
    {
      "cell_type": "code",
      "metadata": {
        "id": "rGMC_9gFI3Ay",
        "colab_type": "code",
        "colab": {}
      },
      "source": [
        "#importing required libraries\n",
        "import numpy as np\n",
        "import pandas as pd\n",
        "import matplotlib.pyplot as plt\n",
        "from matplotlib.colors import ListedColormap"
      ],
      "execution_count": 0,
      "outputs": []
    },
    {
      "cell_type": "markdown",
      "metadata": {
        "id": "UGNOWvcMFMb7",
        "colab_type": "text"
      },
      "source": [
        "Convergence of perceptron is only possible only if two classes are linearly separable and learning rate is sufficiently small.\n",
        "If two classes can't be linearly separated we will set maxmum number of passes over the training dataset called as **epochs**"
      ]
    },
    {
      "cell_type": "code",
      "metadata": {
        "id": "Eu5YO1-KDrIc",
        "colab_type": "code",
        "colab": {}
      },
      "source": [
        "class Perceptron(object):\n",
        "  \"\"\" Perceptron Classifier\n",
        "    parameters\n",
        "    eta = float - learning rate (0.0 - 1)\n",
        "    n_iter = int - passes over training dataset\n",
        "    Attributes\n",
        "    w_ - 1d array - weights after fitting\n",
        "    errors_ - list - number of missclassifications in every epoch\n",
        "  \"\"\"\n",
        "  def __init__(self, eta = 0.01, n_iter = 10):\n",
        "    self.eta = eta\n",
        "    self.n_iter = n_iter\n",
        "\n",
        "  def fit(self, X, Y):\n",
        "    \"\"\" Fit training data\n",
        "      parameters\n",
        "      X: {array like}, shape = [n_samples,n_features]\n",
        "      Training Vectors, where n_samples is number of samples, n_features is number of features\n",
        "      Y: {array like}, shape = [n_samples], where n_samples is target values\n",
        "      returns\n",
        "      object\n",
        "    \"\"\"\n",
        "    self.w_ = np.zeros(1+ X.shape[1])\n",
        "    self.errors_ = []\n",
        "    for _ in range(self.n_iter):\n",
        "      errors = 0\n",
        "      for xi, target in zip(X, Y):\n",
        "        update = self.eta * (target - self.predict(xi))\n",
        "        self.w_[1:] += update * xi\n",
        "        self.w_[0] += update \n",
        "        errors += int(update != 0.0)\n",
        "      self.errors_.append(errors)\n",
        "    return self\n",
        "  def net_input(self, X):\n",
        "    \"\"\" Calculate Net input\"\"\"\n",
        "    return np.dot(X, self.w_[1:]) + self.w_[0]\n",
        "  def predict(self, X):\n",
        "    \"\"\" Return class label after unit step\"\"\"\n",
        "    return np.where(self.net_input(X) >= 0.0, 1, -1)"
      ],
      "execution_count": 0,
      "outputs": []
    },
    {
      "cell_type": "code",
      "metadata": {
        "id": "X1kZB1Jcn_fa",
        "colab_type": "code",
        "outputId": "ad3e6f36-d1d7-48df-9cbc-097795bd33f5",
        "colab": {
          "base_uri": "https://localhost:8080/",
          "height": 389
        }
      },
      "source": [
        "df = pd.read_csv('https://archive.ics.uci.edu/ml/machine-learning-databases/iris/iris.data', header = None)\n",
        "print(df.tail())\n",
        "y= df.iloc[0:100, 4].values\n",
        "y= np.where(y== 'Iris-setosa', -1, 1)\n",
        "x= df.iloc[0:100, [0, 2]].values\n",
        "plt.scatter(x[:50, 0], x[:50, 1], color = 'red', marker = 'o', label = 'setosa')\n",
        "plt.scatter(x[50:100, 0], x[50:100, 1], color = 'blue', marker = 'x', label = 'versicolor')\n",
        "plt.xlabel('petal length')\n",
        "plt.ylabel('sepal lenght')\n",
        "plt.legend(loc = 'upper left')\n",
        "plt.show()"
      ],
      "execution_count": 0,
      "outputs": [
        {
          "output_type": "stream",
          "text": [
            "       0    1    2    3               4\n",
            "145  6.7  3.0  5.2  2.3  Iris-virginica\n",
            "146  6.3  2.5  5.0  1.9  Iris-virginica\n",
            "147  6.5  3.0  5.2  2.0  Iris-virginica\n",
            "148  6.2  3.4  5.4  2.3  Iris-virginica\n",
            "149  5.9  3.0  5.1  1.8  Iris-virginica\n"
          ],
          "name": "stdout"
        },
        {
          "output_type": "display_data",
          "data": {
            "image/png": "[encoded data removed]",
            "text/plain": [
              "<Figure size 432x288 with 1 Axes>"
            ]
          },
          "metadata": {
            "tags": []
          }
        }
      ]
    },
    {
      "cell_type": "code",
      "metadata": {
        "id": "U4K26JW9LjKc",
        "colab_type": "code",
        "outputId": "86365186-43bc-4373-884f-1a8ccc1fd04d",
        "colab": {
          "base_uri": "https://localhost:8080/",
          "height": 283
        }
      },
      "source": [
        "ppn = Perceptron(eta= 0.1, n_iter=10)\n",
        "ppn.fit(x,y)\n",
        "plt.plot(range(1, len(ppn.errors_)+1), ppn.errors_, marker='o')\n",
        "plt.xlabel('Epochs')\n",
        "plt.ylabel('Number of misclassifications')\n",
        "plt.show()"
      ],
      "execution_count": 0,
      "outputs": [
        {
          "output_type": "display_data",
          "data": {
            "image/png": "[encoded data removed]",
            "text/plain": [
              "<Figure size 432x288 with 1 Axes>"
            ]
          },
          "metadata": {
            "tags": []
          }
        }
      ]
    },
    {
      "cell_type": "code",
      "metadata": {
        "id": "xTgaQoBvfOn6",
        "colab_type": "code",
        "colab": {}
      },
      "source": [
        "def plot_decision_regions(x, y, classifier, resolution=0.02):\n",
        "  #Setup marker generator and color map\n",
        "  markers= ('s', 'x', 'o', '^', 'v')\n",
        "  colors= ('red', 'blue', 'lightgreen', 'grey', 'cyan')\n",
        "  cmap = ListedColormap(colors[:len(np.unique(y))])\n",
        "  #plot the decision surface\n",
        "  x1_min, x1_max = x[:, 0].min()- 1, x[:, 0].max()+ 1\n",
        "  x2_min, x2_max = x[:, 1].min()- 1, x[:, 1].max()+ 1\n",
        "  xx1, xx2 = np.meshgrid(np.arange(x1_min, x1_max, resolution), np.arange(x2_min, x2_max, resolution))\n",
        "  z= classifier.predict(np.array([xx1.ravel(), xx2.ravel()]).T)\n",
        "  z= z.reshape(xx1.shape)\n",
        "  plt.contourf(xx1, xx2, z, alpha= 0.4, cmap= cmap)\n",
        "  plt.xlim(xx1.min(), xx1.max())\n",
        "  plt.ylim(xx2.min(), xx2.max())\n",
        "\n",
        "  #plot class samples\n",
        "  for idx, c1 in enumerate(np.unique(y)):\n",
        "    plt.scatter(x=x[y == c1, 0], y=x[y== c1, 1], alpha=0.8, c=cmap(idx), marker=markers[idx], label=c1)"
      ],
      "execution_count": 0,
      "outputs": []
    },
    {
      "cell_type": "code",
      "metadata": {
        "id": "2ao9KgY6pD2J",
        "colab_type": "code",
        "outputId": "557cbe08-7ff2-40bf-f359-3062a2c204a6",
        "colab": {
          "base_uri": "https://localhost:8080/",
          "height": 338
        }
      },
      "source": [
        "plot_decision_regions(x, y, classifier=ppn)\n",
        "plt.xlabel('sepal length [cm]')\n",
        "plt.ylabel('petal length [cm]')\n",
        "plt.legend(loc ='upper left')\n",
        "plt.show()"
      ],
      "execution_count": 0,
      "outputs": [
        {
          "output_type": "stream",
          "text": [
            "'c' argument looks like a single numeric RGB or RGBA sequence, which should be avoided as value-mapping will have precedence in case its length matches with 'x' & 'y'.  Please use a 2-D array with a single row if you really want to specify the same RGB or RGBA value for all points.\n",
            "'c' argument looks like a single numeric RGB or RGBA sequence, which should be avoided as value-mapping will have precedence in case its length matches with 'x' & 'y'.  Please use a 2-D array with a single row if you really want to specify the same RGB or RGBA value for all points.\n"
          ],
          "name": "stderr"
        },
        {
          "output_type": "display_data",
          "data": {
            "image/png": "[encoded data removed]",
            "text/plain": [
              "<Figure size 432x288 with 1 Axes>"
            ]
          },
          "metadata": {
            "tags": []
          }
        }
      ]
    },
    {
      "cell_type": "markdown",
      "metadata": {
        "id": "xBBcXL5i6Qpz",
        "colab_type": "text"
      },
      "source": [
        "# Adaptive Linear Neuron"
      ]
    },
    {
      "cell_type": "code",
      "metadata": {
        "id": "QYM2rR9q6QE0",
        "colab_type": "code",
        "colab": {}
      },
      "source": [
        "class AdalineGD(object):\n",
        "  \"\"\" Adaptive Linear neuron classifier\n",
        "    Parameters=\n",
        "    eta: float - learning rate between 0.0 and 1.0\n",
        "    n_iter: int - number of iterations over training dataset\n",
        "    Attributes:\n",
        "    w_ : 1d-array - weights after fitting \n",
        "    errors_ : list - number of misclassification after every epoch\n",
        "  \"\"\"\n",
        "  def __init__(self, eta= 0.01, n_iter= 50):\n",
        "    self.eta= eta\n",
        "    self.n_iter= n_iter\n",
        "  def fit(self, X, Y):\n",
        "    \"\"\"\n",
        "      Fit Training data\n",
        "      Parameters:\n",
        "      X: {Array-like}, shape= [n-samples, n-features]\n",
        "      Training Vectors, where n-samples is number of samples and n-features is number of features\n",
        "      Y: array-like, sharp: [n-samples], Target values \n",
        "      Returns:\n",
        "      self: Object\n",
        "    \"\"\"\n",
        "    self.w_ = np.zeros(1+ X.shape[1])\n",
        "    self.cost_= []\n",
        "    for i in range(self.n_iter):\n",
        "      output= self.net_input(X)"
      ],
      "execution_count": 0,
      "outputs": []
    }
  ]
}